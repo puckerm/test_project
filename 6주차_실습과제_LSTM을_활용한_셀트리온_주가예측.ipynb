{
  "cells": [
    {
      "cell_type": "markdown",
      "metadata": {
        "id": "view-in-github",
        "colab_type": "text"
      },
      "source": [
        "<a href=\"https://colab.research.google.com/github/puckerm/test_project/blob/main/6%EC%A3%BC%EC%B0%A8_%EC%8B%A4%EC%8A%B5%EA%B3%BC%EC%A0%9C_LSTM%EC%9D%84_%ED%99%9C%EC%9A%A9%ED%95%9C_%EC%82%BC%EC%84%B1%EC%A0%84%EC%9E%90_%EC%A3%BC%EA%B0%80%EC%98%88%EC%B8%A1.ipynb\" target=\"_parent\"><img src=\"https://colab.research.google.com/assets/colab-badge.svg\" alt=\"Open In Colab\"/></a>"
      ]
    },
    {
      "cell_type": "markdown",
      "metadata": {
        "id": "Pyb1-sOD8bUn"
      },
      "source": [
        "# LSTM을 활용한 주가 예측 모델"
      ]
    },
    {
      "cell_type": "markdown",
      "metadata": {
        "id": "NFXSQum-8bUq"
      },
      "source": [
        "이번 튜토리얼 에서는 다음과 같은 **프로세스 파이프라인**으로 주가 예측을 진행합니다.\n",
        "\n",
        "- FinanceDataReader를 활용하여 주가 데이터 받아오기\n",
        "- TensorFlow Dataset 클래스를 활용하여 주가 데이터 구축\n",
        "- LSTM 을 활용한 주가 예측 모델 구축"
      ]
    },
    {
      "cell_type": "markdown",
      "metadata": {
        "id": "C-yRpDHZ8bUq"
      },
      "source": [
        "## 필요한 모듈 import"
      ]
    },
    {
      "cell_type": "code",
      "execution_count": 1,
      "metadata": {
        "id": "xXuU_RJC8bUr"
      },
      "outputs": [],
      "source": [
        "import pandas as pd\n",
        "import numpy as np\n",
        "import matplotlib.pyplot as plt\n",
        "import seaborn as sns\n",
        "import warnings\n",
        "import os\n",
        "\n",
        "%matplotlib inline\n",
        "warnings.filterwarnings('ignore')\n",
        "plt.rcParams['figure.figsize'] = (15, 20)\n",
        "\n",
        "plt.rcParams['font.family'] = 'NanumGothic'"
      ]
    },
    {
      "cell_type": "markdown",
      "metadata": {
        "id": "K2avgmw-8bUr"
      },
      "source": [
        "## 데이터 (FinanceDataReader)"
      ]
    },
    {
      "cell_type": "markdown",
      "metadata": {
        "id": "Z_Q2Maui8bUs"
      },
      "source": [
        "**FinanceDataReader**는 주가 데이터를 편리하게 가져올 수 있는 파이썬 패키지입니다.\n",
        "\n",
        "- [GitHub Repo](https://github.com/FinanceData/FinanceDataReader)"
      ]
    },
    {
      "cell_type": "markdown",
      "metadata": {
        "id": "V7X2JMIx8bUs"
      },
      "source": [
        "**FinanceDataReader**설치"
      ]
    },
    {
      "cell_type": "code",
      "execution_count": 2,
      "metadata": {
        "id": "4AaUNS5T8bUs",
        "colab": {
          "base_uri": "https://localhost:8080/"
        },
        "outputId": "8c7ac43d-7362-4a12-de99-dfbbf194de43"
      },
      "outputs": [
        {
          "output_type": "stream",
          "name": "stdout",
          "text": [
            "Looking in indexes: https://pypi.org/simple, https://us-python.pkg.dev/colab-wheels/public/simple/\n",
            "Collecting finance-datareader\n",
            "  Downloading finance_datareader-0.9.34-py3-none-any.whl (17 kB)\n",
            "Collecting requests-file\n",
            "  Downloading requests_file-1.5.1-py2.py3-none-any.whl (3.7 kB)\n",
            "Requirement already satisfied: tqdm in /usr/local/lib/python3.7/dist-packages (from finance-datareader) (4.64.0)\n",
            "Requirement already satisfied: requests>=2.3.0 in /usr/local/lib/python3.7/dist-packages (from finance-datareader) (2.23.0)\n",
            "Requirement already satisfied: lxml in /usr/local/lib/python3.7/dist-packages (from finance-datareader) (4.2.6)\n",
            "Requirement already satisfied: pandas>=0.19.2 in /usr/local/lib/python3.7/dist-packages (from finance-datareader) (1.3.5)\n",
            "Requirement already satisfied: numpy>=1.17.3 in /usr/local/lib/python3.7/dist-packages (from pandas>=0.19.2->finance-datareader) (1.21.6)\n",
            "Requirement already satisfied: pytz>=2017.3 in /usr/local/lib/python3.7/dist-packages (from pandas>=0.19.2->finance-datareader) (2022.1)\n",
            "Requirement already satisfied: python-dateutil>=2.7.3 in /usr/local/lib/python3.7/dist-packages (from pandas>=0.19.2->finance-datareader) (2.8.2)\n",
            "Requirement already satisfied: six>=1.5 in /usr/local/lib/python3.7/dist-packages (from python-dateutil>=2.7.3->pandas>=0.19.2->finance-datareader) (1.15.0)\n",
            "Requirement already satisfied: certifi>=2017.4.17 in /usr/local/lib/python3.7/dist-packages (from requests>=2.3.0->finance-datareader) (2022.6.15)\n",
            "Requirement already satisfied: chardet<4,>=3.0.2 in /usr/local/lib/python3.7/dist-packages (from requests>=2.3.0->finance-datareader) (3.0.4)\n",
            "Requirement already satisfied: urllib3!=1.25.0,!=1.25.1,<1.26,>=1.21.1 in /usr/local/lib/python3.7/dist-packages (from requests>=2.3.0->finance-datareader) (1.24.3)\n",
            "Requirement already satisfied: idna<3,>=2.5 in /usr/local/lib/python3.7/dist-packages (from requests>=2.3.0->finance-datareader) (2.10)\n",
            "Installing collected packages: requests-file, finance-datareader\n",
            "Successfully installed finance-datareader-0.9.34 requests-file-1.5.1\n"
          ]
        }
      ],
      "source": [
        "!pip install finance-datareader"
      ]
    },
    {
      "cell_type": "code",
      "execution_count": 5,
      "metadata": {
        "id": "hYWwNFXV8bUt"
      },
      "outputs": [],
      "source": [
        "import FinanceDataReader as fdr"
      ]
    },
    {
      "cell_type": "code",
      "execution_count": 35,
      "metadata": {
        "id": "iIIILf728bUt"
      },
      "outputs": [],
      "source": [
        "\n",
        "celltrion = fdr.DataReader('068270')"
      ]
    },
    {
      "cell_type": "markdown",
      "metadata": {
        "id": "RM85qQog8bUu"
      },
      "source": [
        "매우 편리하게 삼성전자 주가 데이터를 `DataFrame`형식으로 받아옵니다.\n",
        "\n",
        "기본 **오름차순 정렬**이 된 데이터임을 알 수 있습니다.\n",
        "\n",
        "### 컬럼 설명\n",
        "\n",
        "- `Open`:   시가\n",
        "- `High`:   고가\n",
        "- `Low`:    저가\n",
        "- `Close`:  종가\n",
        "- `Volume`: 거래량\n",
        "- `Change`: 대비"
      ]
    },
    {
      "cell_type": "markdown",
      "metadata": {
        "id": "VEhwEr-t8bUv"
      },
      "source": [
        "다음과 같이 `2017`을 같이 넘겨주면, 해당 시점 이후의 주식 데이터를 가져옵니다."
      ]
    },
    {
      "cell_type": "markdown",
      "metadata": {
        "id": "RDA4KZqA8bUw"
      },
      "source": [
        "**시작**과 **끝** 날짜를 지정하여 범위 데이터를 가져올 수 있습니다."
      ]
    },
    {
      "cell_type": "code",
      "execution_count": 37,
      "metadata": {
        "id": "rwNzRk9S8bUw"
      },
      "outputs": [],
      "source": [
        "ford = fdr.DataReader('F', '1992-01-01', '2019-12-30')"
      ]
    },
    {
      "cell_type": "code",
      "execution_count": 38,
      "metadata": {
        "id": "vvRyoh9A8bUw",
        "outputId": "ab74f2d1-3e80-478e-b44a-6998eb3d12ca",
        "colab": {
          "base_uri": "https://localhost:8080/",
          "height": 238
        }
      },
      "outputs": [
        {
          "output_type": "execute_result",
          "data": {
            "text/plain": [
              "            Close  Open  High   Low      Volume  Change\n",
              "Date                                                   \n",
              "1992-01-02   8.24  7.92  8.63  7.85   6640000.0  0.0352\n",
              "1992-01-03   8.59  8.34  8.63  8.31   8680000.0  0.0425\n",
              "1992-01-06   8.73  8.73  8.95  8.66  11470000.0  0.0163\n",
              "1992-01-07   8.63  8.70  8.73  8.56   5840000.0 -0.0115\n",
              "1992-01-08   8.59  8.49  8.63  8.38   5410000.0 -0.0046"
            ],
            "text/html": [
              "\n",
              "  <div id=\"df-36c915fc-f054-4af7-864b-5f3c60549b49\">\n",
              "    <div class=\"colab-df-container\">\n",
              "      <div>\n",
              "<style scoped>\n",
              "    .dataframe tbody tr th:only-of-type {\n",
              "        vertical-align: middle;\n",
              "    }\n",
              "\n",
              "    .dataframe tbody tr th {\n",
              "        vertical-align: top;\n",
              "    }\n",
              "\n",
              "    .dataframe thead th {\n",
              "        text-align: right;\n",
              "    }\n",
              "</style>\n",
              "<table border=\"1\" class=\"dataframe\">\n",
              "  <thead>\n",
              "    <tr style=\"text-align: right;\">\n",
              "      <th></th>\n",
              "      <th>Close</th>\n",
              "      <th>Open</th>\n",
              "      <th>High</th>\n",
              "      <th>Low</th>\n",
              "      <th>Volume</th>\n",
              "      <th>Change</th>\n",
              "    </tr>\n",
              "    <tr>\n",
              "      <th>Date</th>\n",
              "      <th></th>\n",
              "      <th></th>\n",
              "      <th></th>\n",
              "      <th></th>\n",
              "      <th></th>\n",
              "      <th></th>\n",
              "    </tr>\n",
              "  </thead>\n",
              "  <tbody>\n",
              "    <tr>\n",
              "      <th>1992-01-02</th>\n",
              "      <td>8.24</td>\n",
              "      <td>7.92</td>\n",
              "      <td>8.63</td>\n",
              "      <td>7.85</td>\n",
              "      <td>6640000.0</td>\n",
              "      <td>0.0352</td>\n",
              "    </tr>\n",
              "    <tr>\n",
              "      <th>1992-01-03</th>\n",
              "      <td>8.59</td>\n",
              "      <td>8.34</td>\n",
              "      <td>8.63</td>\n",
              "      <td>8.31</td>\n",
              "      <td>8680000.0</td>\n",
              "      <td>0.0425</td>\n",
              "    </tr>\n",
              "    <tr>\n",
              "      <th>1992-01-06</th>\n",
              "      <td>8.73</td>\n",
              "      <td>8.73</td>\n",
              "      <td>8.95</td>\n",
              "      <td>8.66</td>\n",
              "      <td>11470000.0</td>\n",
              "      <td>0.0163</td>\n",
              "    </tr>\n",
              "    <tr>\n",
              "      <th>1992-01-07</th>\n",
              "      <td>8.63</td>\n",
              "      <td>8.70</td>\n",
              "      <td>8.73</td>\n",
              "      <td>8.56</td>\n",
              "      <td>5840000.0</td>\n",
              "      <td>-0.0115</td>\n",
              "    </tr>\n",
              "    <tr>\n",
              "      <th>1992-01-08</th>\n",
              "      <td>8.59</td>\n",
              "      <td>8.49</td>\n",
              "      <td>8.63</td>\n",
              "      <td>8.38</td>\n",
              "      <td>5410000.0</td>\n",
              "      <td>-0.0046</td>\n",
              "    </tr>\n",
              "  </tbody>\n",
              "</table>\n",
              "</div>\n",
              "      <button class=\"colab-df-convert\" onclick=\"convertToInteractive('df-36c915fc-f054-4af7-864b-5f3c60549b49')\"\n",
              "              title=\"Convert this dataframe to an interactive table.\"\n",
              "              style=\"display:none;\">\n",
              "        \n",
              "  <svg xmlns=\"http://www.w3.org/2000/svg\" height=\"24px\"viewBox=\"0 0 24 24\"\n",
              "       width=\"24px\">\n",
              "    <path d=\"M0 0h24v24H0V0z\" fill=\"none\"/>\n",
              "    <path d=\"M18.56 5.44l.94 2.06.94-2.06 2.06-.94-2.06-.94-.94-2.06-.94 2.06-2.06.94zm-11 1L8.5 8.5l.94-2.06 2.06-.94-2.06-.94L8.5 2.5l-.94 2.06-2.06.94zm10 10l.94 2.06.94-2.06 2.06-.94-2.06-.94-.94-2.06-.94 2.06-2.06.94z\"/><path d=\"M17.41 7.96l-1.37-1.37c-.4-.4-.92-.59-1.43-.59-.52 0-1.04.2-1.43.59L10.3 9.45l-7.72 7.72c-.78.78-.78 2.05 0 2.83L4 21.41c.39.39.9.59 1.41.59.51 0 1.02-.2 1.41-.59l7.78-7.78 2.81-2.81c.8-.78.8-2.07 0-2.86zM5.41 20L4 18.59l7.72-7.72 1.47 1.35L5.41 20z\"/>\n",
              "  </svg>\n",
              "      </button>\n",
              "      \n",
              "  <style>\n",
              "    .colab-df-container {\n",
              "      display:flex;\n",
              "      flex-wrap:wrap;\n",
              "      gap: 12px;\n",
              "    }\n",
              "\n",
              "    .colab-df-convert {\n",
              "      background-color: #E8F0FE;\n",
              "      border: none;\n",
              "      border-radius: 50%;\n",
              "      cursor: pointer;\n",
              "      display: none;\n",
              "      fill: #1967D2;\n",
              "      height: 32px;\n",
              "      padding: 0 0 0 0;\n",
              "      width: 32px;\n",
              "    }\n",
              "\n",
              "    .colab-df-convert:hover {\n",
              "      background-color: #E2EBFA;\n",
              "      box-shadow: 0px 1px 2px rgba(60, 64, 67, 0.3), 0px 1px 3px 1px rgba(60, 64, 67, 0.15);\n",
              "      fill: #174EA6;\n",
              "    }\n",
              "\n",
              "    [theme=dark] .colab-df-convert {\n",
              "      background-color: #3B4455;\n",
              "      fill: #D2E3FC;\n",
              "    }\n",
              "\n",
              "    [theme=dark] .colab-df-convert:hover {\n",
              "      background-color: #434B5C;\n",
              "      box-shadow: 0px 1px 3px 1px rgba(0, 0, 0, 0.15);\n",
              "      filter: drop-shadow(0px 1px 2px rgba(0, 0, 0, 0.3));\n",
              "      fill: #FFFFFF;\n",
              "    }\n",
              "  </style>\n",
              "\n",
              "      <script>\n",
              "        const buttonEl =\n",
              "          document.querySelector('#df-36c915fc-f054-4af7-864b-5f3c60549b49 button.colab-df-convert');\n",
              "        buttonEl.style.display =\n",
              "          google.colab.kernel.accessAllowed ? 'block' : 'none';\n",
              "\n",
              "        async function convertToInteractive(key) {\n",
              "          const element = document.querySelector('#df-36c915fc-f054-4af7-864b-5f3c60549b49');\n",
              "          const dataTable =\n",
              "            await google.colab.kernel.invokeFunction('convertToInteractive',\n",
              "                                                     [key], {});\n",
              "          if (!dataTable) return;\n",
              "\n",
              "          const docLinkHtml = 'Like what you see? Visit the ' +\n",
              "            '<a target=\"_blank\" href=https://colab.research.google.com/notebooks/data_table.ipynb>data table notebook</a>'\n",
              "            + ' to learn more about interactive tables.';\n",
              "          element.innerHTML = '';\n",
              "          dataTable['output_type'] = 'display_data';\n",
              "          await google.colab.output.renderOutput(dataTable, element);\n",
              "          const docLink = document.createElement('div');\n",
              "          docLink.innerHTML = docLinkHtml;\n",
              "          element.appendChild(docLink);\n",
              "        }\n",
              "      </script>\n",
              "    </div>\n",
              "  </div>\n",
              "  "
            ]
          },
          "metadata": {},
          "execution_count": 38
        }
      ],
      "source": [
        "ford.head()"
      ]
    },
    {
      "cell_type": "code",
      "execution_count": 39,
      "metadata": {
        "id": "dzXVc1mX8bUw",
        "outputId": "c140e6ca-f751-4434-a38f-0e994d3506c2",
        "colab": {
          "base_uri": "https://localhost:8080/",
          "height": 238
        }
      },
      "outputs": [
        {
          "output_type": "execute_result",
          "data": {
            "text/plain": [
              "            Close  Open  High   Low      Volume  Change\n",
              "Date                                                   \n",
              "2019-12-23   9.44  9.50  9.57  9.40  54800000.0 -0.0042\n",
              "2019-12-24   9.47  9.44  9.49  9.43  11880000.0  0.0032\n",
              "2019-12-26   9.45  9.47  9.49  9.43  28980000.0 -0.0021\n",
              "2019-12-27   9.36  9.45  9.46  9.35  28270000.0 -0.0095\n",
              "2019-12-30   9.25  9.34  9.35  9.23  36090000.0 -0.0118"
            ],
            "text/html": [
              "\n",
              "  <div id=\"df-97c72e81-dcc4-4b85-af7f-388ab34f7a43\">\n",
              "    <div class=\"colab-df-container\">\n",
              "      <div>\n",
              "<style scoped>\n",
              "    .dataframe tbody tr th:only-of-type {\n",
              "        vertical-align: middle;\n",
              "    }\n",
              "\n",
              "    .dataframe tbody tr th {\n",
              "        vertical-align: top;\n",
              "    }\n",
              "\n",
              "    .dataframe thead th {\n",
              "        text-align: right;\n",
              "    }\n",
              "</style>\n",
              "<table border=\"1\" class=\"dataframe\">\n",
              "  <thead>\n",
              "    <tr style=\"text-align: right;\">\n",
              "      <th></th>\n",
              "      <th>Close</th>\n",
              "      <th>Open</th>\n",
              "      <th>High</th>\n",
              "      <th>Low</th>\n",
              "      <th>Volume</th>\n",
              "      <th>Change</th>\n",
              "    </tr>\n",
              "    <tr>\n",
              "      <th>Date</th>\n",
              "      <th></th>\n",
              "      <th></th>\n",
              "      <th></th>\n",
              "      <th></th>\n",
              "      <th></th>\n",
              "      <th></th>\n",
              "    </tr>\n",
              "  </thead>\n",
              "  <tbody>\n",
              "    <tr>\n",
              "      <th>2019-12-23</th>\n",
              "      <td>9.44</td>\n",
              "      <td>9.50</td>\n",
              "      <td>9.57</td>\n",
              "      <td>9.40</td>\n",
              "      <td>54800000.0</td>\n",
              "      <td>-0.0042</td>\n",
              "    </tr>\n",
              "    <tr>\n",
              "      <th>2019-12-24</th>\n",
              "      <td>9.47</td>\n",
              "      <td>9.44</td>\n",
              "      <td>9.49</td>\n",
              "      <td>9.43</td>\n",
              "      <td>11880000.0</td>\n",
              "      <td>0.0032</td>\n",
              "    </tr>\n",
              "    <tr>\n",
              "      <th>2019-12-26</th>\n",
              "      <td>9.45</td>\n",
              "      <td>9.47</td>\n",
              "      <td>9.49</td>\n",
              "      <td>9.43</td>\n",
              "      <td>28980000.0</td>\n",
              "      <td>-0.0021</td>\n",
              "    </tr>\n",
              "    <tr>\n",
              "      <th>2019-12-27</th>\n",
              "      <td>9.36</td>\n",
              "      <td>9.45</td>\n",
              "      <td>9.46</td>\n",
              "      <td>9.35</td>\n",
              "      <td>28270000.0</td>\n",
              "      <td>-0.0095</td>\n",
              "    </tr>\n",
              "    <tr>\n",
              "      <th>2019-12-30</th>\n",
              "      <td>9.25</td>\n",
              "      <td>9.34</td>\n",
              "      <td>9.35</td>\n",
              "      <td>9.23</td>\n",
              "      <td>36090000.0</td>\n",
              "      <td>-0.0118</td>\n",
              "    </tr>\n",
              "  </tbody>\n",
              "</table>\n",
              "</div>\n",
              "      <button class=\"colab-df-convert\" onclick=\"convertToInteractive('df-97c72e81-dcc4-4b85-af7f-388ab34f7a43')\"\n",
              "              title=\"Convert this dataframe to an interactive table.\"\n",
              "              style=\"display:none;\">\n",
              "        \n",
              "  <svg xmlns=\"http://www.w3.org/2000/svg\" height=\"24px\"viewBox=\"0 0 24 24\"\n",
              "       width=\"24px\">\n",
              "    <path d=\"M0 0h24v24H0V0z\" fill=\"none\"/>\n",
              "    <path d=\"M18.56 5.44l.94 2.06.94-2.06 2.06-.94-2.06-.94-.94-2.06-.94 2.06-2.06.94zm-11 1L8.5 8.5l.94-2.06 2.06-.94-2.06-.94L8.5 2.5l-.94 2.06-2.06.94zm10 10l.94 2.06.94-2.06 2.06-.94-2.06-.94-.94-2.06-.94 2.06-2.06.94z\"/><path d=\"M17.41 7.96l-1.37-1.37c-.4-.4-.92-.59-1.43-.59-.52 0-1.04.2-1.43.59L10.3 9.45l-7.72 7.72c-.78.78-.78 2.05 0 2.83L4 21.41c.39.39.9.59 1.41.59.51 0 1.02-.2 1.41-.59l7.78-7.78 2.81-2.81c.8-.78.8-2.07 0-2.86zM5.41 20L4 18.59l7.72-7.72 1.47 1.35L5.41 20z\"/>\n",
              "  </svg>\n",
              "      </button>\n",
              "      \n",
              "  <style>\n",
              "    .colab-df-container {\n",
              "      display:flex;\n",
              "      flex-wrap:wrap;\n",
              "      gap: 12px;\n",
              "    }\n",
              "\n",
              "    .colab-df-convert {\n",
              "      background-color: #E8F0FE;\n",
              "      border: none;\n",
              "      border-radius: 50%;\n",
              "      cursor: pointer;\n",
              "      display: none;\n",
              "      fill: #1967D2;\n",
              "      height: 32px;\n",
              "      padding: 0 0 0 0;\n",
              "      width: 32px;\n",
              "    }\n",
              "\n",
              "    .colab-df-convert:hover {\n",
              "      background-color: #E2EBFA;\n",
              "      box-shadow: 0px 1px 2px rgba(60, 64, 67, 0.3), 0px 1px 3px 1px rgba(60, 64, 67, 0.15);\n",
              "      fill: #174EA6;\n",
              "    }\n",
              "\n",
              "    [theme=dark] .colab-df-convert {\n",
              "      background-color: #3B4455;\n",
              "      fill: #D2E3FC;\n",
              "    }\n",
              "\n",
              "    [theme=dark] .colab-df-convert:hover {\n",
              "      background-color: #434B5C;\n",
              "      box-shadow: 0px 1px 3px 1px rgba(0, 0, 0, 0.15);\n",
              "      filter: drop-shadow(0px 1px 2px rgba(0, 0, 0, 0.3));\n",
              "      fill: #FFFFFF;\n",
              "    }\n",
              "  </style>\n",
              "\n",
              "      <script>\n",
              "        const buttonEl =\n",
              "          document.querySelector('#df-97c72e81-dcc4-4b85-af7f-388ab34f7a43 button.colab-df-convert');\n",
              "        buttonEl.style.display =\n",
              "          google.colab.kernel.accessAllowed ? 'block' : 'none';\n",
              "\n",
              "        async function convertToInteractive(key) {\n",
              "          const element = document.querySelector('#df-97c72e81-dcc4-4b85-af7f-388ab34f7a43');\n",
              "          const dataTable =\n",
              "            await google.colab.kernel.invokeFunction('convertToInteractive',\n",
              "                                                     [key], {});\n",
              "          if (!dataTable) return;\n",
              "\n",
              "          const docLinkHtml = 'Like what you see? Visit the ' +\n",
              "            '<a target=\"_blank\" href=https://colab.research.google.com/notebooks/data_table.ipynb>data table notebook</a>'\n",
              "            + ' to learn more about interactive tables.';\n",
              "          element.innerHTML = '';\n",
              "          dataTable['output_type'] = 'display_data';\n",
              "          await google.colab.output.renderOutput(dataTable, element);\n",
              "          const docLink = document.createElement('div');\n",
              "          docLink.innerHTML = docLinkHtml;\n",
              "          element.appendChild(docLink);\n",
              "        }\n",
              "      </script>\n",
              "    </div>\n",
              "  </div>\n",
              "  "
            ]
          },
          "metadata": {},
          "execution_count": 39
        }
      ],
      "source": [
        "ford.tail()"
      ]
    },
    {
      "cell_type": "markdown",
      "metadata": {
        "id": "WZy8n5wy8bUx"
      },
      "source": [
        "그 밖에 **금, 은과 같은 현물**, **달러와 같은 화폐** 데이터도 가져올 수 있습니다."
      ]
    },
    {
      "cell_type": "markdown",
      "metadata": {
        "id": "YWiG4J3F8bUx"
      },
      "source": [
        "**삼성전자**의 주가데이터를 가져와서 예측"
      ]
    },
    {
      "cell_type": "code",
      "execution_count": 41,
      "metadata": {
        "id": "WQR8Q7wI8bUx"
      },
      "outputs": [],
      "source": [
        "STOCK_CODE = '068270'"
      ]
    },
    {
      "cell_type": "code",
      "execution_count": 42,
      "metadata": {
        "id": "u1sCtxvc8bUx"
      },
      "outputs": [],
      "source": [
        "stock = fdr.DataReader(STOCK_CODE)"
      ]
    },
    {
      "cell_type": "code",
      "execution_count": 43,
      "metadata": {
        "id": "AKQgf-JO8bUx",
        "outputId": "6fb55c40-1063-477c-d80b-9d19448f773e",
        "colab": {
          "base_uri": "https://localhost:8080/",
          "height": 238
        }
      },
      "outputs": [
        {
          "output_type": "execute_result",
          "data": {
            "text/plain": [
              "            Open  High   Low  Close  Volume    Change\n",
              "Date                                                 \n",
              "2005-07-19  5597  6433  5437   6439       0       NaN\n",
              "2005-07-20  6424  6424  5470   5475       0 -0.149713\n",
              "2005-07-21  5391  5499  4785   4798       0 -0.123653\n",
              "2005-07-22  4884  4884  4617   4664       0 -0.027928\n",
              "2005-07-25  4587  4967  4587   4723       0  0.012650"
            ],
            "text/html": [
              "\n",
              "  <div id=\"df-3e036245-14cf-446e-bd23-4be9f2c2567e\">\n",
              "    <div class=\"colab-df-container\">\n",
              "      <div>\n",
              "<style scoped>\n",
              "    .dataframe tbody tr th:only-of-type {\n",
              "        vertical-align: middle;\n",
              "    }\n",
              "\n",
              "    .dataframe tbody tr th {\n",
              "        vertical-align: top;\n",
              "    }\n",
              "\n",
              "    .dataframe thead th {\n",
              "        text-align: right;\n",
              "    }\n",
              "</style>\n",
              "<table border=\"1\" class=\"dataframe\">\n",
              "  <thead>\n",
              "    <tr style=\"text-align: right;\">\n",
              "      <th></th>\n",
              "      <th>Open</th>\n",
              "      <th>High</th>\n",
              "      <th>Low</th>\n",
              "      <th>Close</th>\n",
              "      <th>Volume</th>\n",
              "      <th>Change</th>\n",
              "    </tr>\n",
              "    <tr>\n",
              "      <th>Date</th>\n",
              "      <th></th>\n",
              "      <th></th>\n",
              "      <th></th>\n",
              "      <th></th>\n",
              "      <th></th>\n",
              "      <th></th>\n",
              "    </tr>\n",
              "  </thead>\n",
              "  <tbody>\n",
              "    <tr>\n",
              "      <th>2005-07-19</th>\n",
              "      <td>5597</td>\n",
              "      <td>6433</td>\n",
              "      <td>5437</td>\n",
              "      <td>6439</td>\n",
              "      <td>0</td>\n",
              "      <td>NaN</td>\n",
              "    </tr>\n",
              "    <tr>\n",
              "      <th>2005-07-20</th>\n",
              "      <td>6424</td>\n",
              "      <td>6424</td>\n",
              "      <td>5470</td>\n",
              "      <td>5475</td>\n",
              "      <td>0</td>\n",
              "      <td>-0.149713</td>\n",
              "    </tr>\n",
              "    <tr>\n",
              "      <th>2005-07-21</th>\n",
              "      <td>5391</td>\n",
              "      <td>5499</td>\n",
              "      <td>4785</td>\n",
              "      <td>4798</td>\n",
              "      <td>0</td>\n",
              "      <td>-0.123653</td>\n",
              "    </tr>\n",
              "    <tr>\n",
              "      <th>2005-07-22</th>\n",
              "      <td>4884</td>\n",
              "      <td>4884</td>\n",
              "      <td>4617</td>\n",
              "      <td>4664</td>\n",
              "      <td>0</td>\n",
              "      <td>-0.027928</td>\n",
              "    </tr>\n",
              "    <tr>\n",
              "      <th>2005-07-25</th>\n",
              "      <td>4587</td>\n",
              "      <td>4967</td>\n",
              "      <td>4587</td>\n",
              "      <td>4723</td>\n",
              "      <td>0</td>\n",
              "      <td>0.012650</td>\n",
              "    </tr>\n",
              "  </tbody>\n",
              "</table>\n",
              "</div>\n",
              "      <button class=\"colab-df-convert\" onclick=\"convertToInteractive('df-3e036245-14cf-446e-bd23-4be9f2c2567e')\"\n",
              "              title=\"Convert this dataframe to an interactive table.\"\n",
              "              style=\"display:none;\">\n",
              "        \n",
              "  <svg xmlns=\"http://www.w3.org/2000/svg\" height=\"24px\"viewBox=\"0 0 24 24\"\n",
              "       width=\"24px\">\n",
              "    <path d=\"M0 0h24v24H0V0z\" fill=\"none\"/>\n",
              "    <path d=\"M18.56 5.44l.94 2.06.94-2.06 2.06-.94-2.06-.94-.94-2.06-.94 2.06-2.06.94zm-11 1L8.5 8.5l.94-2.06 2.06-.94-2.06-.94L8.5 2.5l-.94 2.06-2.06.94zm10 10l.94 2.06.94-2.06 2.06-.94-2.06-.94-.94-2.06-.94 2.06-2.06.94z\"/><path d=\"M17.41 7.96l-1.37-1.37c-.4-.4-.92-.59-1.43-.59-.52 0-1.04.2-1.43.59L10.3 9.45l-7.72 7.72c-.78.78-.78 2.05 0 2.83L4 21.41c.39.39.9.59 1.41.59.51 0 1.02-.2 1.41-.59l7.78-7.78 2.81-2.81c.8-.78.8-2.07 0-2.86zM5.41 20L4 18.59l7.72-7.72 1.47 1.35L5.41 20z\"/>\n",
              "  </svg>\n",
              "      </button>\n",
              "      \n",
              "  <style>\n",
              "    .colab-df-container {\n",
              "      display:flex;\n",
              "      flex-wrap:wrap;\n",
              "      gap: 12px;\n",
              "    }\n",
              "\n",
              "    .colab-df-convert {\n",
              "      background-color: #E8F0FE;\n",
              "      border: none;\n",
              "      border-radius: 50%;\n",
              "      cursor: pointer;\n",
              "      display: none;\n",
              "      fill: #1967D2;\n",
              "      height: 32px;\n",
              "      padding: 0 0 0 0;\n",
              "      width: 32px;\n",
              "    }\n",
              "\n",
              "    .colab-df-convert:hover {\n",
              "      background-color: #E2EBFA;\n",
              "      box-shadow: 0px 1px 2px rgba(60, 64, 67, 0.3), 0px 1px 3px 1px rgba(60, 64, 67, 0.15);\n",
              "      fill: #174EA6;\n",
              "    }\n",
              "\n",
              "    [theme=dark] .colab-df-convert {\n",
              "      background-color: #3B4455;\n",
              "      fill: #D2E3FC;\n",
              "    }\n",
              "\n",
              "    [theme=dark] .colab-df-convert:hover {\n",
              "      background-color: #434B5C;\n",
              "      box-shadow: 0px 1px 3px 1px rgba(0, 0, 0, 0.15);\n",
              "      filter: drop-shadow(0px 1px 2px rgba(0, 0, 0, 0.3));\n",
              "      fill: #FFFFFF;\n",
              "    }\n",
              "  </style>\n",
              "\n",
              "      <script>\n",
              "        const buttonEl =\n",
              "          document.querySelector('#df-3e036245-14cf-446e-bd23-4be9f2c2567e button.colab-df-convert');\n",
              "        buttonEl.style.display =\n",
              "          google.colab.kernel.accessAllowed ? 'block' : 'none';\n",
              "\n",
              "        async function convertToInteractive(key) {\n",
              "          const element = document.querySelector('#df-3e036245-14cf-446e-bd23-4be9f2c2567e');\n",
              "          const dataTable =\n",
              "            await google.colab.kernel.invokeFunction('convertToInteractive',\n",
              "                                                     [key], {});\n",
              "          if (!dataTable) return;\n",
              "\n",
              "          const docLinkHtml = 'Like what you see? Visit the ' +\n",
              "            '<a target=\"_blank\" href=https://colab.research.google.com/notebooks/data_table.ipynb>data table notebook</a>'\n",
              "            + ' to learn more about interactive tables.';\n",
              "          element.innerHTML = '';\n",
              "          dataTable['output_type'] = 'display_data';\n",
              "          await google.colab.output.renderOutput(dataTable, element);\n",
              "          const docLink = document.createElement('div');\n",
              "          docLink.innerHTML = docLinkHtml;\n",
              "          element.appendChild(docLink);\n",
              "        }\n",
              "      </script>\n",
              "    </div>\n",
              "  </div>\n",
              "  "
            ]
          },
          "metadata": {},
          "execution_count": 43
        }
      ],
      "source": [
        "stock.head()"
      ]
    },
    {
      "cell_type": "code",
      "execution_count": 44,
      "metadata": {
        "id": "fyrLPOtY8bUx",
        "outputId": "5bc9c835-a0f2-457c-8ad0-613af666bc01",
        "colab": {
          "base_uri": "https://localhost:8080/",
          "height": 238
        }
      },
      "outputs": [
        {
          "output_type": "execute_result",
          "data": {
            "text/plain": [
              "              Open    High     Low   Close  Volume    Change\n",
              "Date                                                        \n",
              "2022-07-06  181500  190000  181500  186500  892324  0.019126\n",
              "2022-07-07  188000  189000  184500  187500  369149  0.005362\n",
              "2022-07-08  187000  187000  178500  182500  755595 -0.026667\n",
              "2022-07-11  181500  187500  181500  186000  344098  0.019178\n",
              "2022-07-12  187500  191500  185000  187500  420319  0.008065"
            ],
            "text/html": [
              "\n",
              "  <div id=\"df-d135f9ff-8e42-4d70-a1ce-17d60a3e6a79\">\n",
              "    <div class=\"colab-df-container\">\n",
              "      <div>\n",
              "<style scoped>\n",
              "    .dataframe tbody tr th:only-of-type {\n",
              "        vertical-align: middle;\n",
              "    }\n",
              "\n",
              "    .dataframe tbody tr th {\n",
              "        vertical-align: top;\n",
              "    }\n",
              "\n",
              "    .dataframe thead th {\n",
              "        text-align: right;\n",
              "    }\n",
              "</style>\n",
              "<table border=\"1\" class=\"dataframe\">\n",
              "  <thead>\n",
              "    <tr style=\"text-align: right;\">\n",
              "      <th></th>\n",
              "      <th>Open</th>\n",
              "      <th>High</th>\n",
              "      <th>Low</th>\n",
              "      <th>Close</th>\n",
              "      <th>Volume</th>\n",
              "      <th>Change</th>\n",
              "    </tr>\n",
              "    <tr>\n",
              "      <th>Date</th>\n",
              "      <th></th>\n",
              "      <th></th>\n",
              "      <th></th>\n",
              "      <th></th>\n",
              "      <th></th>\n",
              "      <th></th>\n",
              "    </tr>\n",
              "  </thead>\n",
              "  <tbody>\n",
              "    <tr>\n",
              "      <th>2022-07-06</th>\n",
              "      <td>181500</td>\n",
              "      <td>190000</td>\n",
              "      <td>181500</td>\n",
              "      <td>186500</td>\n",
              "      <td>892324</td>\n",
              "      <td>0.019126</td>\n",
              "    </tr>\n",
              "    <tr>\n",
              "      <th>2022-07-07</th>\n",
              "      <td>188000</td>\n",
              "      <td>189000</td>\n",
              "      <td>184500</td>\n",
              "      <td>187500</td>\n",
              "      <td>369149</td>\n",
              "      <td>0.005362</td>\n",
              "    </tr>\n",
              "    <tr>\n",
              "      <th>2022-07-08</th>\n",
              "      <td>187000</td>\n",
              "      <td>187000</td>\n",
              "      <td>178500</td>\n",
              "      <td>182500</td>\n",
              "      <td>755595</td>\n",
              "      <td>-0.026667</td>\n",
              "    </tr>\n",
              "    <tr>\n",
              "      <th>2022-07-11</th>\n",
              "      <td>181500</td>\n",
              "      <td>187500</td>\n",
              "      <td>181500</td>\n",
              "      <td>186000</td>\n",
              "      <td>344098</td>\n",
              "      <td>0.019178</td>\n",
              "    </tr>\n",
              "    <tr>\n",
              "      <th>2022-07-12</th>\n",
              "      <td>187500</td>\n",
              "      <td>191500</td>\n",
              "      <td>185000</td>\n",
              "      <td>187500</td>\n",
              "      <td>420319</td>\n",
              "      <td>0.008065</td>\n",
              "    </tr>\n",
              "  </tbody>\n",
              "</table>\n",
              "</div>\n",
              "      <button class=\"colab-df-convert\" onclick=\"convertToInteractive('df-d135f9ff-8e42-4d70-a1ce-17d60a3e6a79')\"\n",
              "              title=\"Convert this dataframe to an interactive table.\"\n",
              "              style=\"display:none;\">\n",
              "        \n",
              "  <svg xmlns=\"http://www.w3.org/2000/svg\" height=\"24px\"viewBox=\"0 0 24 24\"\n",
              "       width=\"24px\">\n",
              "    <path d=\"M0 0h24v24H0V0z\" fill=\"none\"/>\n",
              "    <path d=\"M18.56 5.44l.94 2.06.94-2.06 2.06-.94-2.06-.94-.94-2.06-.94 2.06-2.06.94zm-11 1L8.5 8.5l.94-2.06 2.06-.94-2.06-.94L8.5 2.5l-.94 2.06-2.06.94zm10 10l.94 2.06.94-2.06 2.06-.94-2.06-.94-.94-2.06-.94 2.06-2.06.94z\"/><path d=\"M17.41 7.96l-1.37-1.37c-.4-.4-.92-.59-1.43-.59-.52 0-1.04.2-1.43.59L10.3 9.45l-7.72 7.72c-.78.78-.78 2.05 0 2.83L4 21.41c.39.39.9.59 1.41.59.51 0 1.02-.2 1.41-.59l7.78-7.78 2.81-2.81c.8-.78.8-2.07 0-2.86zM5.41 20L4 18.59l7.72-7.72 1.47 1.35L5.41 20z\"/>\n",
              "  </svg>\n",
              "      </button>\n",
              "      \n",
              "  <style>\n",
              "    .colab-df-container {\n",
              "      display:flex;\n",
              "      flex-wrap:wrap;\n",
              "      gap: 12px;\n",
              "    }\n",
              "\n",
              "    .colab-df-convert {\n",
              "      background-color: #E8F0FE;\n",
              "      border: none;\n",
              "      border-radius: 50%;\n",
              "      cursor: pointer;\n",
              "      display: none;\n",
              "      fill: #1967D2;\n",
              "      height: 32px;\n",
              "      padding: 0 0 0 0;\n",
              "      width: 32px;\n",
              "    }\n",
              "\n",
              "    .colab-df-convert:hover {\n",
              "      background-color: #E2EBFA;\n",
              "      box-shadow: 0px 1px 2px rgba(60, 64, 67, 0.3), 0px 1px 3px 1px rgba(60, 64, 67, 0.15);\n",
              "      fill: #174EA6;\n",
              "    }\n",
              "\n",
              "    [theme=dark] .colab-df-convert {\n",
              "      background-color: #3B4455;\n",
              "      fill: #D2E3FC;\n",
              "    }\n",
              "\n",
              "    [theme=dark] .colab-df-convert:hover {\n",
              "      background-color: #434B5C;\n",
              "      box-shadow: 0px 1px 3px 1px rgba(0, 0, 0, 0.15);\n",
              "      filter: drop-shadow(0px 1px 2px rgba(0, 0, 0, 0.3));\n",
              "      fill: #FFFFFF;\n",
              "    }\n",
              "  </style>\n",
              "\n",
              "      <script>\n",
              "        const buttonEl =\n",
              "          document.querySelector('#df-d135f9ff-8e42-4d70-a1ce-17d60a3e6a79 button.colab-df-convert');\n",
              "        buttonEl.style.display =\n",
              "          google.colab.kernel.accessAllowed ? 'block' : 'none';\n",
              "\n",
              "        async function convertToInteractive(key) {\n",
              "          const element = document.querySelector('#df-d135f9ff-8e42-4d70-a1ce-17d60a3e6a79');\n",
              "          const dataTable =\n",
              "            await google.colab.kernel.invokeFunction('convertToInteractive',\n",
              "                                                     [key], {});\n",
              "          if (!dataTable) return;\n",
              "\n",
              "          const docLinkHtml = 'Like what you see? Visit the ' +\n",
              "            '<a target=\"_blank\" href=https://colab.research.google.com/notebooks/data_table.ipynb>data table notebook</a>'\n",
              "            + ' to learn more about interactive tables.';\n",
              "          element.innerHTML = '';\n",
              "          dataTable['output_type'] = 'display_data';\n",
              "          await google.colab.output.renderOutput(dataTable, element);\n",
              "          const docLink = document.createElement('div');\n",
              "          docLink.innerHTML = docLinkHtml;\n",
              "          element.appendChild(docLink);\n",
              "        }\n",
              "      </script>\n",
              "    </div>\n",
              "  </div>\n",
              "  "
            ]
          },
          "metadata": {},
          "execution_count": 44
        }
      ],
      "source": [
        "stock.tail()"
      ]
    },
    {
      "cell_type": "code",
      "execution_count": 45,
      "metadata": {
        "id": "fVOwZ9sA8bUy",
        "outputId": "b5f0e23e-c816-48de-d0cc-be3f9aa34d79",
        "colab": {
          "base_uri": "https://localhost:8080/"
        }
      },
      "outputs": [
        {
          "output_type": "execute_result",
          "data": {
            "text/plain": [
              "DatetimeIndex(['2005-07-19', '2005-07-20', '2005-07-21', '2005-07-22',\n",
              "               '2005-07-25', '2005-07-26', '2005-07-27', '2005-07-28',\n",
              "               '2005-07-29', '2005-08-01',\n",
              "               ...\n",
              "               '2022-06-29', '2022-06-30', '2022-07-01', '2022-07-04',\n",
              "               '2022-07-05', '2022-07-06', '2022-07-07', '2022-07-08',\n",
              "               '2022-07-11', '2022-07-12'],\n",
              "              dtype='datetime64[ns]', name='Date', length=4200, freq=None)"
            ]
          },
          "metadata": {},
          "execution_count": 45
        }
      ],
      "source": [
        "stock.index"
      ]
    },
    {
      "cell_type": "markdown",
      "metadata": {
        "id": "bTgr472H8bUy"
      },
      "source": [
        "위에서 보시는 바와 같이 index가 `DatetimeIndex`로 지정되어 있습니다.\n",
        "\n",
        "`DatetimeIndex`로 정의되어 있다면, 아래와 같이 연도, 월, 일을 쪼갤 수 있으며, **월별, 연도별 피벗데이터**를 만들때 유용하게 활용할 수 있습니다."
      ]
    },
    {
      "cell_type": "code",
      "execution_count": 46,
      "metadata": {
        "id": "fif43Fh-0l4L"
      },
      "outputs": [],
      "source": [
        "stock['Year'] = stock.index.year\n",
        "stock['Month'] = stock.index.month\n",
        "stock['Day'] = stock.index.day"
      ]
    },
    {
      "cell_type": "code",
      "execution_count": 33,
      "metadata": {
        "colab": {
          "base_uri": "https://localhost:8080/",
          "height": 49
        },
        "id": "0yAKE9Ag0l4S",
        "outputId": "e3cba661-30ff-4f1e-a417-832103a61b97"
      },
      "outputs": [
        {
          "output_type": "execute_result",
          "data": {
            "text/plain": [
              "Empty DataFrame\n",
              "Columns: []\n",
              "Index: []"
            ],
            "text/html": [
              "\n",
              "  <div id=\"df-27798e25-1ef7-4732-adb9-0dae13d65569\">\n",
              "    <div class=\"colab-df-container\">\n",
              "      <div>\n",
              "<style scoped>\n",
              "    .dataframe tbody tr th:only-of-type {\n",
              "        vertical-align: middle;\n",
              "    }\n",
              "\n",
              "    .dataframe tbody tr th {\n",
              "        vertical-align: top;\n",
              "    }\n",
              "\n",
              "    .dataframe thead th {\n",
              "        text-align: right;\n",
              "    }\n",
              "</style>\n",
              "<table border=\"1\" class=\"dataframe\">\n",
              "  <thead>\n",
              "    <tr style=\"text-align: right;\">\n",
              "      <th></th>\n",
              "    </tr>\n",
              "  </thead>\n",
              "  <tbody>\n",
              "  </tbody>\n",
              "</table>\n",
              "</div>\n",
              "      <button class=\"colab-df-convert\" onclick=\"convertToInteractive('df-27798e25-1ef7-4732-adb9-0dae13d65569')\"\n",
              "              title=\"Convert this dataframe to an interactive table.\"\n",
              "              style=\"display:none;\">\n",
              "        \n",
              "  <svg xmlns=\"http://www.w3.org/2000/svg\" height=\"24px\"viewBox=\"0 0 24 24\"\n",
              "       width=\"24px\">\n",
              "    <path d=\"M0 0h24v24H0V0z\" fill=\"none\"/>\n",
              "    <path d=\"M18.56 5.44l.94 2.06.94-2.06 2.06-.94-2.06-.94-.94-2.06-.94 2.06-2.06.94zm-11 1L8.5 8.5l.94-2.06 2.06-.94-2.06-.94L8.5 2.5l-.94 2.06-2.06.94zm10 10l.94 2.06.94-2.06 2.06-.94-2.06-.94-.94-2.06-.94 2.06-2.06.94z\"/><path d=\"M17.41 7.96l-1.37-1.37c-.4-.4-.92-.59-1.43-.59-.52 0-1.04.2-1.43.59L10.3 9.45l-7.72 7.72c-.78.78-.78 2.05 0 2.83L4 21.41c.39.39.9.59 1.41.59.51 0 1.02-.2 1.41-.59l7.78-7.78 2.81-2.81c.8-.78.8-2.07 0-2.86zM5.41 20L4 18.59l7.72-7.72 1.47 1.35L5.41 20z\"/>\n",
              "  </svg>\n",
              "      </button>\n",
              "      \n",
              "  <style>\n",
              "    .colab-df-container {\n",
              "      display:flex;\n",
              "      flex-wrap:wrap;\n",
              "      gap: 12px;\n",
              "    }\n",
              "\n",
              "    .colab-df-convert {\n",
              "      background-color: #E8F0FE;\n",
              "      border: none;\n",
              "      border-radius: 50%;\n",
              "      cursor: pointer;\n",
              "      display: none;\n",
              "      fill: #1967D2;\n",
              "      height: 32px;\n",
              "      padding: 0 0 0 0;\n",
              "      width: 32px;\n",
              "    }\n",
              "\n",
              "    .colab-df-convert:hover {\n",
              "      background-color: #E2EBFA;\n",
              "      box-shadow: 0px 1px 2px rgba(60, 64, 67, 0.3), 0px 1px 3px 1px rgba(60, 64, 67, 0.15);\n",
              "      fill: #174EA6;\n",
              "    }\n",
              "\n",
              "    [theme=dark] .colab-df-convert {\n",
              "      background-color: #3B4455;\n",
              "      fill: #D2E3FC;\n",
              "    }\n",
              "\n",
              "    [theme=dark] .colab-df-convert:hover {\n",
              "      background-color: #434B5C;\n",
              "      box-shadow: 0px 1px 3px 1px rgba(0, 0, 0, 0.15);\n",
              "      filter: drop-shadow(0px 1px 2px rgba(0, 0, 0, 0.3));\n",
              "      fill: #FFFFFF;\n",
              "    }\n",
              "  </style>\n",
              "\n",
              "      <script>\n",
              "        const buttonEl =\n",
              "          document.querySelector('#df-27798e25-1ef7-4732-adb9-0dae13d65569 button.colab-df-convert');\n",
              "        buttonEl.style.display =\n",
              "          google.colab.kernel.accessAllowed ? 'block' : 'none';\n",
              "\n",
              "        async function convertToInteractive(key) {\n",
              "          const element = document.querySelector('#df-27798e25-1ef7-4732-adb9-0dae13d65569');\n",
              "          const dataTable =\n",
              "            await google.colab.kernel.invokeFunction('convertToInteractive',\n",
              "                                                     [key], {});\n",
              "          if (!dataTable) return;\n",
              "\n",
              "          const docLinkHtml = 'Like what you see? Visit the ' +\n",
              "            '<a target=\"_blank\" href=https://colab.research.google.com/notebooks/data_table.ipynb>data table notebook</a>'\n",
              "            + ' to learn more about interactive tables.';\n",
              "          element.innerHTML = '';\n",
              "          dataTable['output_type'] = 'display_data';\n",
              "          await google.colab.output.renderOutput(dataTable, element);\n",
              "          const docLink = document.createElement('div');\n",
              "          docLink.innerHTML = docLinkHtml;\n",
              "          element.appendChild(docLink);\n",
              "        }\n",
              "      </script>\n",
              "    </div>\n",
              "  </div>\n",
              "  "
            ]
          },
          "metadata": {},
          "execution_count": 33
        }
      ],
      "source": [
        "stock.head()"
      ]
    },
    {
      "cell_type": "markdown",
      "metadata": {
        "id": "5FBTlube0l4d"
      },
      "source": [
        "## 시각화"
      ]
    },
    {
      "cell_type": "code",
      "execution_count": 47,
      "metadata": {
        "colab": {
          "base_uri": "https://localhost:8080/",
          "height": 569
        },
        "id": "MWcaWEa80l4o",
        "outputId": "b0908452-4869-42b0-ba92-ea0fb48885c3"
      },
      "outputs": [
        {
          "output_type": "execute_result",
          "data": {
            "text/plain": [
              "Text(0, 0.5, 'price')"
            ]
          },
          "metadata": {},
          "execution_count": 47
        },
        {
          "output_type": "stream",
          "name": "stderr",
          "text": [
            "findfont: Font family ['NanumGothic'] not found. Falling back to DejaVu Sans.\n"
          ]
        },
        {
          "output_type": "display_data",
          "data": {
            "text/plain": [
              "<Figure size 1152x648 with 1 Axes>"
            ],
            "image/png": "[encoded data removed]"
          },
          "metadata": {
            "needs_background": "light"
          }
        }
      ],
      "source": [
        "plt.figure(figsize=(16, 9))\n",
        "sns.lineplot(y=stock['Close'], x=stock.index)\n",
        "plt.xlabel('time')\n",
        "plt.ylabel('price')"
      ]
    },
    {
      "cell_type": "code",
      "execution_count": 49,
      "metadata": {
        "id": "bmhVqqJw8bUy",
        "outputId": "af98a175-5e20-4ab5-bdfa-a216023b5a83",
        "colab": {
          "base_uri": "https://localhost:8080/",
          "height": 657
        }
      },
      "outputs": [
        {
          "output_type": "display_data",
          "data": {
            "text/plain": [
              "<Figure size 1152x648 with 4 Axes>"
            ],
            "image/png": "[encoded data removed]"
          },
          "metadata": {
            "needs_background": "light"
          }
        }
      ],
      "source": [
        "time_steps = [['1992', '2000'], # 특정기간을 설정하여 subplot 표현\n",
        "              ['2000', '2010'], \n",
        "              ['2010', '2015'], \n",
        "              ['2015', '2020']]\n",
        "\n",
        "fig, axes = plt.subplots(2, 2)\n",
        "fig.set_size_inches(16, 9)\n",
        "for i in range(4):\n",
        "    ax = axes[i//2, i%2]\n",
        "    df = stock.loc[(stock.index > time_steps[i][0]) & (stock.index < time_steps[i][1])]\n",
        "    sns.lineplot(y=df['Close'], x=df.index, ax=ax) # 선형플롯\n",
        "    ax.set_title(f'{time_steps[i][0]}~{time_steps[i][1]}')\n",
        "    ax.set_xlabel('time')\n",
        "    ax.set_ylabel('price')\n",
        "plt.tight_layout()\n",
        "plt.show()"
      ]
    },
    {
      "cell_type": "markdown",
      "metadata": {
        "id": "Fz7k20jh8bUz"
      },
      "source": [
        "## 데이터 전처리"
      ]
    },
    {
      "cell_type": "markdown",
      "metadata": {
        "id": "ufa3Y0xx8bUz"
      },
      "source": [
        "주가 데이터에 대하여 딥러닝 모델이 더 잘 학습할 수 있도록 **정규화(Normalization)**를 해주도록 하겠습니다.\n",
        "\n",
        "**표준화 (Standardization)**와 **정규화(Normalization)**에 대한 내용은 아래 링크에서 더 자세히 다루니, 참고해 보시기 바랍니다.\n",
        "\n",
        "- [데이터 전처리에 관하여](https://teddylee777.github.io/scikit-learn/scikit-learn-preprocessing)"
      ]
    },
    {
      "cell_type": "code",
      "execution_count": 50,
      "metadata": {
        "id": "4-4PgRMZ0l5Q",
        "outputId": "3ce46ddf-60b8-48e0-b1aa-c724150a02c5",
        "colab": {
          "base_uri": "https://localhost:8080/"
        }
      },
      "outputs": [
        {
          "output_type": "execute_result",
          "data": {
            "text/plain": [
              "array([[0.01464589, 0.01654144, 0.01477225, 0.01173881, 0.        ],\n",
              "       [0.01680993, 0.0165183 , 0.01486191, 0.00924789, 0.        ],\n",
              "       [0.01410684, 0.01413981, 0.01300077, 0.00749857, 0.        ],\n",
              "       ...,\n",
              "       [0.48933025, 0.48084093, 0.48498186, 0.46666856, 0.0654205 ],\n",
              "       [0.47493818, 0.4821266 , 0.49313282, 0.47571233, 0.0297925 ],\n",
              "       [0.49063862, 0.49241197, 0.50264227, 0.47958822, 0.03639182]])"
            ]
          },
          "metadata": {},
          "execution_count": 50
        }
      ],
      "source": [
        "from sklearn.preprocessing import MinMaxScaler\n",
        "\n",
        "scaler = MinMaxScaler() # MinMaxScaler 인스턴스화\n",
        "\n",
        "# 스케일을 적용할 column을 정의합니다.\n",
        "scale_cols = ['Open', 'High', 'Low', 'Close', 'Volume']\n",
        "\n",
        "# 스케일 후 columns\n",
        "scaled = scaler.fit_transform(stock[scale_cols])\n",
        "scaled"
      ]
    },
    {
      "cell_type": "markdown",
      "metadata": {
        "id": "DiY_n3uZ8bUz"
      },
      "source": [
        "스케일이 완료된 column으로 새로운 데이터프레임을 생성합니다.\n",
        "\n",
        "**시간 순으로 정렬**되어 있으며, datetime index는 제외\n",
        "\n",
        "*6,000개의 row, 5개 column*으로 이루어진 데이터셋이 DataFrame으로 정리되었습니다."
      ]
    },
    {
      "cell_type": "code",
      "execution_count": 51,
      "metadata": {
        "id": "dIJjE21B0l5m",
        "colab": {
          "base_uri": "https://localhost:8080/"
        },
        "outputId": "066b5ee4-094b-47be-b3a3-4c562d66ede5"
      },
      "outputs": [
        {
          "output_type": "stream",
          "name": "stdout",
          "text": [
            "<class 'pandas.core.frame.DataFrame'>\n",
            "RangeIndex: 4200 entries, 0 to 4199\n",
            "Data columns (total 5 columns):\n",
            " #   Column  Non-Null Count  Dtype  \n",
            "---  ------  --------------  -----  \n",
            " 0   Open    4200 non-null   float64\n",
            " 1   High    4200 non-null   float64\n",
            " 2   Low     4200 non-null   float64\n",
            " 3   Close   4200 non-null   float64\n",
            " 4   Volume  4200 non-null   float64\n",
            "dtypes: float64(5)\n",
            "memory usage: 164.2 KB\n"
          ]
        }
      ],
      "source": [
        "df = pd.DataFrame(scaled, columns=scale_cols)\n",
        "df.info()"
      ]
    },
    {
      "cell_type": "markdown",
      "metadata": {
        "id": "2tn-HRL98bUz"
      },
      "source": [
        "## train / test 분할"
      ]
    },
    {
      "cell_type": "code",
      "execution_count": 52,
      "metadata": {
        "id": "vo--zFeu8bUz"
      },
      "outputs": [],
      "source": [
        "from sklearn.model_selection import train_test_split"
      ]
    },
    {
      "cell_type": "code",
      "execution_count": 53,
      "metadata": {
        "id": "KVlPZmfS8bUz"
      },
      "outputs": [],
      "source": [
        "x_train, x_test, y_train, y_test = train_test_split(df.drop('Close', 1), df['Close'], test_size=0.2, random_state=0, shuffle=False)"
      ]
    },
    {
      "cell_type": "code",
      "execution_count": 54,
      "metadata": {
        "id": "r2xqgJS78bUz",
        "outputId": "be79f134-e86b-4f71-92e9-23dae6141588",
        "colab": {
          "base_uri": "https://localhost:8080/"
        }
      },
      "outputs": [
        {
          "output_type": "execute_result",
          "data": {
            "text/plain": [
              "((3360, 4), (3360,))"
            ]
          },
          "metadata": {},
          "execution_count": 54
        }
      ],
      "source": [
        "x_train.shape, y_train.shape"
      ]
    },
    {
      "cell_type": "code",
      "execution_count": 55,
      "metadata": {
        "id": "h6Co6zHg8bU0",
        "outputId": "b6878f59-5e0a-446b-9ac4-6e3197e075e8",
        "colab": {
          "base_uri": "https://localhost:8080/"
        }
      },
      "outputs": [
        {
          "output_type": "execute_result",
          "data": {
            "text/plain": [
              "((840, 4), (840,))"
            ]
          },
          "metadata": {},
          "execution_count": 55
        }
      ],
      "source": [
        "x_test.shape, y_test.shape"
      ]
    },
    {
      "cell_type": "code",
      "execution_count": 56,
      "metadata": {
        "id": "jnhrPUQa8bU0",
        "outputId": "b060c2a7-91d5-4b51-a236-47610ff97b25",
        "colab": {
          "base_uri": "https://localhost:8080/",
          "height": 424
        }
      },
      "outputs": [
        {
          "output_type": "execute_result",
          "data": {
            "text/plain": [
              "          Open      High       Low    Volume\n",
              "0     0.014646  0.016541  0.014772  0.000000\n",
              "1     0.016810  0.016518  0.014862  0.000000\n",
              "2     0.014107  0.014140  0.013001  0.000000\n",
              "3     0.012780  0.012558  0.012544  0.000000\n",
              "4     0.012003  0.012772  0.012463  0.000000\n",
              "...        ...       ...       ...       ...\n",
              "3355  0.519122  0.511304  0.527758  0.042844\n",
              "3356  0.514307  0.507753  0.527758  0.038571\n",
              "3357  0.510691  0.504196  0.516502  0.063235\n",
              "3358  0.503466  0.503016  0.521504  0.047142\n",
              "3359  0.509490  0.505384  0.526506  0.028615\n",
              "\n",
              "[3360 rows x 4 columns]"
            ],
            "text/html": [
              "\n",
              "  <div id=\"df-317e7fc3-1376-47b1-b960-1301424e1e23\">\n",
              "    <div class=\"colab-df-container\">\n",
              "      <div>\n",
              "<style scoped>\n",
              "    .dataframe tbody tr th:only-of-type {\n",
              "        vertical-align: middle;\n",
              "    }\n",
              "\n",
              "    .dataframe tbody tr th {\n",
              "        vertical-align: top;\n",
              "    }\n",
              "\n",
              "    .dataframe thead th {\n",
              "        text-align: right;\n",
              "    }\n",
              "</style>\n",
              "<table border=\"1\" class=\"dataframe\">\n",
              "  <thead>\n",
              "    <tr style=\"text-align: right;\">\n",
              "      <th></th>\n",
              "      <th>Open</th>\n",
              "      <th>High</th>\n",
              "      <th>Low</th>\n",
              "      <th>Volume</th>\n",
              "    </tr>\n",
              "  </thead>\n",
              "  <tbody>\n",
              "    <tr>\n",
              "      <th>0</th>\n",
              "      <td>0.014646</td>\n",
              "      <td>0.016541</td>\n",
              "      <td>0.014772</td>\n",
              "      <td>0.000000</td>\n",
              "    </tr>\n",
              "    <tr>\n",
              "      <th>1</th>\n",
              "      <td>0.016810</td>\n",
              "      <td>0.016518</td>\n",
              "      <td>0.014862</td>\n",
              "      <td>0.000000</td>\n",
              "    </tr>\n",
              "    <tr>\n",
              "      <th>2</th>\n",
              "      <td>0.014107</td>\n",
              "      <td>0.014140</td>\n",
              "      <td>0.013001</td>\n",
              "      <td>0.000000</td>\n",
              "    </tr>\n",
              "    <tr>\n",
              "      <th>3</th>\n",
              "      <td>0.012780</td>\n",
              "      <td>0.012558</td>\n",
              "      <td>0.012544</td>\n",
              "      <td>0.000000</td>\n",
              "    </tr>\n",
              "    <tr>\n",
              "      <th>4</th>\n",
              "      <td>0.012003</td>\n",
              "      <td>0.012772</td>\n",
              "      <td>0.012463</td>\n",
              "      <td>0.000000</td>\n",
              "    </tr>\n",
              "    <tr>\n",
              "      <th>...</th>\n",
              "      <td>...</td>\n",
              "      <td>...</td>\n",
              "      <td>...</td>\n",
              "      <td>...</td>\n",
              "    </tr>\n",
              "    <tr>\n",
              "      <th>3355</th>\n",
              "      <td>0.519122</td>\n",
              "      <td>0.511304</td>\n",
              "      <td>0.527758</td>\n",
              "      <td>0.042844</td>\n",
              "    </tr>\n",
              "    <tr>\n",
              "      <th>3356</th>\n",
              "      <td>0.514307</td>\n",
              "      <td>0.507753</td>\n",
              "      <td>0.527758</td>\n",
              "      <td>0.038571</td>\n",
              "    </tr>\n",
              "    <tr>\n",
              "      <th>3357</th>\n",
              "      <td>0.510691</td>\n",
              "      <td>0.504196</td>\n",
              "      <td>0.516502</td>\n",
              "      <td>0.063235</td>\n",
              "    </tr>\n",
              "    <tr>\n",
              "      <th>3358</th>\n",
              "      <td>0.503466</td>\n",
              "      <td>0.503016</td>\n",
              "      <td>0.521504</td>\n",
              "      <td>0.047142</td>\n",
              "    </tr>\n",
              "    <tr>\n",
              "      <th>3359</th>\n",
              "      <td>0.509490</td>\n",
              "      <td>0.505384</td>\n",
              "      <td>0.526506</td>\n",
              "      <td>0.028615</td>\n",
              "    </tr>\n",
              "  </tbody>\n",
              "</table>\n",
              "<p>3360 rows × 4 columns</p>\n",
              "</div>\n",
              "      <button class=\"colab-df-convert\" onclick=\"convertToInteractive('df-317e7fc3-1376-47b1-b960-1301424e1e23')\"\n",
              "              title=\"Convert this dataframe to an interactive table.\"\n",
              "              style=\"display:none;\">\n",
              "        \n",
              "  <svg xmlns=\"http://www.w3.org/2000/svg\" height=\"24px\"viewBox=\"0 0 24 24\"\n",
              "       width=\"24px\">\n",
              "    <path d=\"M0 0h24v24H0V0z\" fill=\"none\"/>\n",
              "    <path d=\"M18.56 5.44l.94 2.06.94-2.06 2.06-.94-2.06-.94-.94-2.06-.94 2.06-2.06.94zm-11 1L8.5 8.5l.94-2.06 2.06-.94-2.06-.94L8.5 2.5l-.94 2.06-2.06.94zm10 10l.94 2.06.94-2.06 2.06-.94-2.06-.94-.94-2.06-.94 2.06-2.06.94z\"/><path d=\"M17.41 7.96l-1.37-1.37c-.4-.4-.92-.59-1.43-.59-.52 0-1.04.2-1.43.59L10.3 9.45l-7.72 7.72c-.78.78-.78 2.05 0 2.83L4 21.41c.39.39.9.59 1.41.59.51 0 1.02-.2 1.41-.59l7.78-7.78 2.81-2.81c.8-.78.8-2.07 0-2.86zM5.41 20L4 18.59l7.72-7.72 1.47 1.35L5.41 20z\"/>\n",
              "  </svg>\n",
              "      </button>\n",
              "      \n",
              "  <style>\n",
              "    .colab-df-container {\n",
              "      display:flex;\n",
              "      flex-wrap:wrap;\n",
              "      gap: 12px;\n",
              "    }\n",
              "\n",
              "    .colab-df-convert {\n",
              "      background-color: #E8F0FE;\n",
              "      border: none;\n",
              "      border-radius: 50%;\n",
              "      cursor: pointer;\n",
              "      display: none;\n",
              "      fill: #1967D2;\n",
              "      height: 32px;\n",
              "      padding: 0 0 0 0;\n",
              "      width: 32px;\n",
              "    }\n",
              "\n",
              "    .colab-df-convert:hover {\n",
              "      background-color: #E2EBFA;\n",
              "      box-shadow: 0px 1px 2px rgba(60, 64, 67, 0.3), 0px 1px 3px 1px rgba(60, 64, 67, 0.15);\n",
              "      fill: #174EA6;\n",
              "    }\n",
              "\n",
              "    [theme=dark] .colab-df-convert {\n",
              "      background-color: #3B4455;\n",
              "      fill: #D2E3FC;\n",
              "    }\n",
              "\n",
              "    [theme=dark] .colab-df-convert:hover {\n",
              "      background-color: #434B5C;\n",
              "      box-shadow: 0px 1px 3px 1px rgba(0, 0, 0, 0.15);\n",
              "      filter: drop-shadow(0px 1px 2px rgba(0, 0, 0, 0.3));\n",
              "      fill: #FFFFFF;\n",
              "    }\n",
              "  </style>\n",
              "\n",
              "      <script>\n",
              "        const buttonEl =\n",
              "          document.querySelector('#df-317e7fc3-1376-47b1-b960-1301424e1e23 button.colab-df-convert');\n",
              "        buttonEl.style.display =\n",
              "          google.colab.kernel.accessAllowed ? 'block' : 'none';\n",
              "\n",
              "        async function convertToInteractive(key) {\n",
              "          const element = document.querySelector('#df-317e7fc3-1376-47b1-b960-1301424e1e23');\n",
              "          const dataTable =\n",
              "            await google.colab.kernel.invokeFunction('convertToInteractive',\n",
              "                                                     [key], {});\n",
              "          if (!dataTable) return;\n",
              "\n",
              "          const docLinkHtml = 'Like what you see? Visit the ' +\n",
              "            '<a target=\"_blank\" href=https://colab.research.google.com/notebooks/data_table.ipynb>data table notebook</a>'\n",
              "            + ' to learn more about interactive tables.';\n",
              "          element.innerHTML = '';\n",
              "          dataTable['output_type'] = 'display_data';\n",
              "          await google.colab.output.renderOutput(dataTable, element);\n",
              "          const docLink = document.createElement('div');\n",
              "          docLink.innerHTML = docLinkHtml;\n",
              "          element.appendChild(docLink);\n",
              "        }\n",
              "      </script>\n",
              "    </div>\n",
              "  </div>\n",
              "  "
            ]
          },
          "metadata": {},
          "execution_count": 56
        }
      ],
      "source": [
        "x_train"
      ]
    },
    {
      "cell_type": "markdown",
      "metadata": {
        "id": "iLCpf4Uf8bU0"
      },
      "source": [
        "## TensroFlow Dataset을 활용한 시퀀스 데이터셋 구성"
      ]
    },
    {
      "cell_type": "code",
      "execution_count": 57,
      "metadata": {
        "id": "vaeaq5mK8bU0"
      },
      "outputs": [],
      "source": [
        "import tensorflow as tf"
      ]
    },
    {
      "cell_type": "code",
      "execution_count": 58,
      "metadata": {
        "id": "PHqUcRAM8bU0"
      },
      "outputs": [],
      "source": [
        "def windowed_dataset(series, window_size, batch_size, shuffle):\n",
        "    series = tf.expand_dims(series, axis=-1)\n",
        "    ds = tf.data.Dataset.from_tensor_slices(series)\n",
        "    ds = ds.window(window_size + 1, shift=1, drop_remainder=True)\n",
        "    ds = ds.flat_map(lambda w: w.batch(window_size + 1))\n",
        "    if shuffle:\n",
        "        ds = ds.shuffle(1000)\n",
        "    ds = ds.map(lambda w: (w[:-1], w[-1]))\n",
        "    return ds.batch(batch_size).prefetch(1)"
      ]
    },
    {
      "cell_type": "markdown",
      "metadata": {
        "id": "M5xr8Utj8bU0"
      },
      "source": [
        "Hyperparameter를 정의합니다."
      ]
    },
    {
      "cell_type": "code",
      "execution_count": 59,
      "metadata": {
        "id": "wknnGf098bU0"
      },
      "outputs": [],
      "source": [
        "WINDOW_SIZE=20\n",
        "BATCH_SIZE=32"
      ]
    },
    {
      "cell_type": "code",
      "execution_count": 60,
      "metadata": {
        "id": "l-wO0fly8bU0"
      },
      "outputs": [],
      "source": [
        "# train_data는 학습용 데이터셋, test_data는 검증용 데이터셋 입니다.\n",
        "train_data = windowed_dataset(y_train, WINDOW_SIZE, BATCH_SIZE, True)\n",
        "test_data = windowed_dataset(y_test, WINDOW_SIZE, BATCH_SIZE, False)"
      ]
    },
    {
      "cell_type": "code",
      "execution_count": 61,
      "metadata": {
        "id": "-hfAGXaF8bU0",
        "outputId": "75f4c87f-dd2d-49d9-bfc9-577ee6d27342",
        "colab": {
          "base_uri": "https://localhost:8080/"
        }
      },
      "outputs": [
        {
          "output_type": "stream",
          "name": "stdout",
          "text": [
            "데이터셋(X) 구성(batch_size, window_size, feature갯수): (32, 20, 1)\n",
            "데이터셋(Y) 구성(batch_size, window_size, feature갯수): (32, 1)\n"
          ]
        }
      ],
      "source": [
        "# 아래의 코드로 데이터셋의 구성을 확인해 볼 수 있습니다.\n",
        "# X: (batch_size, window_size, feature)\n",
        "# Y: (batch_size, feature)\n",
        "for data in train_data.take(1):\n",
        "    print(f'데이터셋(X) 구성(batch_size, window_size, feature갯수): {data[0].shape}')\n",
        "    print(f'데이터셋(Y) 구성(batch_size, window_size, feature갯수): {data[1].shape}')"
      ]
    },
    {
      "cell_type": "markdown",
      "metadata": {
        "id": "M0bev95S8bU0"
      },
      "source": [
        "## 모델"
      ]
    },
    {
      "cell_type": "code",
      "execution_count": 62,
      "metadata": {
        "id": "mAkmGu1j0l8M"
      },
      "outputs": [],
      "source": [
        "from tensorflow.keras.models import Sequential\n",
        "from tensorflow.keras.layers import Dense, LSTM, Conv1D, Lambda\n",
        "from tensorflow.keras.losses import Huber\n",
        "from tensorflow.keras.optimizers import Adam\n",
        "from tensorflow.keras.callbacks import EarlyStopping, ModelCheckpoint\n",
        "\n",
        "\n",
        "model = Sequential([\n",
        "    # 1차원 feature map 생성\n",
        "    Conv1D(filters=32, kernel_size=5,\n",
        "           padding=\"causal\",\n",
        "           activation=\"relu\",\n",
        "           input_shape=[WINDOW_SIZE, 1]),\n",
        "    # LSTM\n",
        "    LSTM(16, activation='tanh'),\n",
        "    Dense(16, activation=\"relu\"),\n",
        "    Dense(1),\n",
        "])"
      ]
    },
    {
      "cell_type": "code",
      "execution_count": 63,
      "metadata": {
        "id": "xShll_EX0l8T"
      },
      "outputs": [],
      "source": [
        "# Sequence 학습에 비교적 좋은 퍼포먼스를 내는 Huber()를 사용합니다.\n",
        "loss = Huber()\n",
        "optimizer = Adam(0.0005)\n",
        "model.compile(loss=Huber(), optimizer=optimizer, metrics=['mse'])"
      ]
    },
    {
      "cell_type": "code",
      "execution_count": 64,
      "metadata": {
        "id": "6qrMbXx58bU1"
      },
      "outputs": [],
      "source": [
        "# earlystopping은 10번 epoch통안 val_loss 개선이 없다면 학습을 멈춥니다.\n",
        "earlystopping = EarlyStopping(monitor='val_loss', patience=10)\n",
        "# val_loss 기준 체크포인터도 생성합니다.\n",
        "filename = os.path.join('tmp', 'ckeckpointer.ckpt')\n",
        "checkpoint = ModelCheckpoint(filename, \n",
        "                             save_weights_only=True, \n",
        "                             save_best_only=True, \n",
        "                             monitor='val_loss', \n",
        "                             verbose=1)"
      ]
    },
    {
      "cell_type": "code",
      "execution_count": 65,
      "metadata": {
        "colab": {
          "base_uri": "https://localhost:8080/"
        },
        "outputId": "a5cac77d-a1e7-444c-8afb-6bea6c34bdaf",
        "id": "Lz-iuu2b8bU1"
      },
      "outputs": [
        {
          "output_type": "stream",
          "name": "stdout",
          "text": [
            "Epoch 1/50\n",
            "    105/Unknown - 14s 7ms/step - loss: 2.4968e-04 - mse: 4.9935e-04\n",
            "Epoch 1: val_loss improved from inf to 0.00098, saving model to tmp/ckeckpointer.ckpt\n",
            "105/105 [==============================] - 15s 16ms/step - loss: 2.4968e-04 - mse: 4.9935e-04 - val_loss: 9.8136e-04 - val_mse: 0.0020\n",
            "Epoch 2/50\n",
            " 99/105 [===========================>..] - ETA: 0s - loss: 1.5546e-04 - mse: 3.1091e-04\n",
            "Epoch 2: val_loss improved from 0.00098 to 0.00097, saving model to tmp/ckeckpointer.ckpt\n",
            "105/105 [==============================] - 1s 9ms/step - loss: 1.6667e-04 - mse: 3.3333e-04 - val_loss: 9.6544e-04 - val_mse: 0.0019\n",
            "Epoch 3/50\n",
            "101/105 [===========================>..] - ETA: 0s - loss: 1.4107e-04 - mse: 2.8213e-04\n",
            "Epoch 3: val_loss improved from 0.00097 to 0.00070, saving model to tmp/ckeckpointer.ckpt\n",
            "105/105 [==============================] - 1s 9ms/step - loss: 1.4458e-04 - mse: 2.8917e-04 - val_loss: 6.9526e-04 - val_mse: 0.0014\n",
            "Epoch 4/50\n",
            "100/105 [===========================>..] - ETA: 0s - loss: 1.2454e-04 - mse: 2.4909e-04\n",
            "Epoch 4: val_loss improved from 0.00070 to 0.00067, saving model to tmp/ckeckpointer.ckpt\n",
            "105/105 [==============================] - 1s 11ms/step - loss: 1.2821e-04 - mse: 2.5641e-04 - val_loss: 6.6538e-04 - val_mse: 0.0013\n",
            "Epoch 5/50\n",
            "102/105 [============================>.] - ETA: 0s - loss: 1.2167e-04 - mse: 2.4335e-04\n",
            "Epoch 5: val_loss improved from 0.00067 to 0.00063, saving model to tmp/ckeckpointer.ckpt\n",
            "105/105 [==============================] - 1s 9ms/step - loss: 1.2336e-04 - mse: 2.4672e-04 - val_loss: 6.2883e-04 - val_mse: 0.0013\n",
            "Epoch 6/50\n",
            "100/105 [===========================>..] - ETA: 0s - loss: 1.2965e-04 - mse: 2.5930e-04\n",
            "Epoch 6: val_loss did not improve from 0.00063\n",
            "105/105 [==============================] - 1s 9ms/step - loss: 1.3579e-04 - mse: 2.7159e-04 - val_loss: 6.3320e-04 - val_mse: 0.0013\n",
            "Epoch 7/50\n",
            " 96/105 [==========================>...] - ETA: 0s - loss: 9.9081e-05 - mse: 1.9816e-04\n",
            "Epoch 7: val_loss improved from 0.00063 to 0.00057, saving model to tmp/ckeckpointer.ckpt\n",
            "105/105 [==============================] - 1s 8ms/step - loss: 1.1672e-04 - mse: 2.3344e-04 - val_loss: 5.6933e-04 - val_mse: 0.0011\n",
            "Epoch 8/50\n",
            "100/105 [===========================>..] - ETA: 0s - loss: 1.1128e-04 - mse: 2.2255e-04\n",
            "Epoch 8: val_loss improved from 0.00057 to 0.00055, saving model to tmp/ckeckpointer.ckpt\n",
            "105/105 [==============================] - 1s 9ms/step - loss: 1.1845e-04 - mse: 2.3691e-04 - val_loss: 5.4667e-04 - val_mse: 0.0011\n",
            "Epoch 9/50\n",
            "100/105 [===========================>..] - ETA: 0s - loss: 9.1872e-05 - mse: 1.8374e-04\n",
            "Epoch 9: val_loss did not improve from 0.00055\n",
            "105/105 [==============================] - 1s 9ms/step - loss: 1.0128e-04 - mse: 2.0257e-04 - val_loss: 6.9997e-04 - val_mse: 0.0014\n",
            "Epoch 10/50\n",
            "105/105 [==============================] - ETA: 0s - loss: 9.8499e-05 - mse: 1.9700e-04\n",
            "Epoch 10: val_loss improved from 0.00055 to 0.00048, saving model to tmp/ckeckpointer.ckpt\n",
            "105/105 [==============================] - 1s 9ms/step - loss: 9.8499e-05 - mse: 1.9700e-04 - val_loss: 4.8441e-04 - val_mse: 9.6882e-04\n",
            "Epoch 11/50\n",
            "101/105 [===========================>..] - ETA: 0s - loss: 9.1757e-05 - mse: 1.8351e-04\n",
            "Epoch 11: val_loss improved from 0.00048 to 0.00045, saving model to tmp/ckeckpointer.ckpt\n",
            "105/105 [==============================] - 1s 9ms/step - loss: 9.4413e-05 - mse: 1.8883e-04 - val_loss: 4.4964e-04 - val_mse: 8.9927e-04\n",
            "Epoch 12/50\n",
            "102/105 [============================>.] - ETA: 0s - loss: 9.1776e-05 - mse: 1.8355e-04\n",
            "Epoch 12: val_loss did not improve from 0.00045\n",
            "105/105 [==============================] - 1s 8ms/step - loss: 9.2781e-05 - mse: 1.8556e-04 - val_loss: 5.8011e-04 - val_mse: 0.0012\n",
            "Epoch 13/50\n",
            "101/105 [===========================>..] - ETA: 0s - loss: 8.9619e-05 - mse: 1.7924e-04\n",
            "Epoch 13: val_loss improved from 0.00045 to 0.00040, saving model to tmp/ckeckpointer.ckpt\n",
            "105/105 [==============================] - 1s 8ms/step - loss: 9.5675e-05 - mse: 1.9135e-04 - val_loss: 3.9718e-04 - val_mse: 7.9436e-04\n",
            "Epoch 14/50\n",
            "101/105 [===========================>..] - ETA: 0s - loss: 8.0295e-05 - mse: 1.6059e-04\n",
            "Epoch 14: val_loss did not improve from 0.00040\n",
            "105/105 [==============================] - 1s 8ms/step - loss: 8.5131e-05 - mse: 1.7026e-04 - val_loss: 4.3354e-04 - val_mse: 8.6709e-04\n",
            "Epoch 15/50\n",
            " 97/105 [==========================>...] - ETA: 0s - loss: 7.8390e-05 - mse: 1.5678e-04\n",
            "Epoch 15: val_loss improved from 0.00040 to 0.00035, saving model to tmp/ckeckpointer.ckpt\n",
            "105/105 [==============================] - 1s 8ms/step - loss: 8.8449e-05 - mse: 1.7690e-04 - val_loss: 3.4974e-04 - val_mse: 6.9947e-04\n",
            "Epoch 16/50\n",
            " 98/105 [===========================>..] - ETA: 0s - loss: 8.6690e-05 - mse: 1.7338e-04\n",
            "Epoch 16: val_loss did not improve from 0.00035\n",
            "105/105 [==============================] - 1s 8ms/step - loss: 9.4695e-05 - mse: 1.8939e-04 - val_loss: 3.7184e-04 - val_mse: 7.4369e-04\n",
            "Epoch 17/50\n",
            "100/105 [===========================>..] - ETA: 0s - loss: 7.8251e-05 - mse: 1.5650e-04\n",
            "Epoch 17: val_loss did not improve from 0.00035\n",
            "105/105 [==============================] - 1s 9ms/step - loss: 8.1515e-05 - mse: 1.6303e-04 - val_loss: 3.6837e-04 - val_mse: 7.3673e-04\n",
            "Epoch 18/50\n",
            "102/105 [============================>.] - ETA: 0s - loss: 6.9563e-05 - mse: 1.3913e-04\n",
            "Epoch 18: val_loss did not improve from 0.00035\n",
            "105/105 [==============================] - 1s 8ms/step - loss: 7.1934e-05 - mse: 1.4387e-04 - val_loss: 4.1583e-04 - val_mse: 8.3165e-04\n",
            "Epoch 19/50\n",
            " 96/105 [==========================>...] - ETA: 0s - loss: 7.1562e-05 - mse: 1.4312e-04\n",
            "Epoch 19: val_loss did not improve from 0.00035\n",
            "105/105 [==============================] - 1s 8ms/step - loss: 8.2662e-05 - mse: 1.6532e-04 - val_loss: 4.2209e-04 - val_mse: 8.4418e-04\n",
            "Epoch 20/50\n",
            "101/105 [===========================>..] - ETA: 0s - loss: 8.2724e-05 - mse: 1.6545e-04\n",
            "Epoch 20: val_loss improved from 0.00035 to 0.00033, saving model to tmp/ckeckpointer.ckpt\n",
            "105/105 [==============================] - 1s 9ms/step - loss: 8.4660e-05 - mse: 1.6932e-04 - val_loss: 3.3020e-04 - val_mse: 6.6040e-04\n",
            "Epoch 21/50\n",
            " 99/105 [===========================>..] - ETA: 0s - loss: 6.8765e-05 - mse: 1.3753e-04\n",
            "Epoch 21: val_loss improved from 0.00033 to 0.00032, saving model to tmp/ckeckpointer.ckpt\n",
            "105/105 [==============================] - 1s 9ms/step - loss: 7.2536e-05 - mse: 1.4507e-04 - val_loss: 3.2019e-04 - val_mse: 6.4038e-04\n",
            "Epoch 22/50\n",
            " 98/105 [===========================>..] - ETA: 0s - loss: 6.3196e-05 - mse: 1.2639e-04\n",
            "Epoch 22: val_loss did not improve from 0.00032\n",
            "105/105 [==============================] - 1s 9ms/step - loss: 7.0897e-05 - mse: 1.4179e-04 - val_loss: 3.8708e-04 - val_mse: 7.7415e-04\n",
            "Epoch 23/50\n",
            "103/105 [============================>.] - ETA: 0s - loss: 7.4741e-05 - mse: 1.4948e-04\n",
            "Epoch 23: val_loss did not improve from 0.00032\n",
            "105/105 [==============================] - 1s 9ms/step - loss: 7.4890e-05 - mse: 1.4978e-04 - val_loss: 3.7886e-04 - val_mse: 7.5771e-04\n",
            "Epoch 24/50\n",
            "105/105 [==============================] - ETA: 0s - loss: 6.7078e-05 - mse: 1.3416e-04\n",
            "Epoch 24: val_loss did not improve from 0.00032\n",
            "105/105 [==============================] - 1s 9ms/step - loss: 6.7078e-05 - mse: 1.3416e-04 - val_loss: 3.2598e-04 - val_mse: 6.5196e-04\n",
            "Epoch 25/50\n",
            " 96/105 [==========================>...] - ETA: 0s - loss: 5.2071e-05 - mse: 1.0414e-04\n",
            "Epoch 25: val_loss did not improve from 0.00032\n",
            "105/105 [==============================] - 1s 9ms/step - loss: 6.1775e-05 - mse: 1.2355e-04 - val_loss: 3.2094e-04 - val_mse: 6.4187e-04\n",
            "Epoch 26/50\n",
            " 99/105 [===========================>..] - ETA: 0s - loss: 5.8065e-05 - mse: 1.1613e-04\n",
            "Epoch 26: val_loss improved from 0.00032 to 0.00026, saving model to tmp/ckeckpointer.ckpt\n",
            "105/105 [==============================] - 1s 9ms/step - loss: 6.2352e-05 - mse: 1.2470e-04 - val_loss: 2.6076e-04 - val_mse: 5.2152e-04\n",
            "Epoch 27/50\n",
            " 99/105 [===========================>..] - ETA: 0s - loss: 4.9171e-05 - mse: 9.8343e-05\n",
            "Epoch 27: val_loss improved from 0.00026 to 0.00026, saving model to tmp/ckeckpointer.ckpt\n",
            "105/105 [==============================] - 1s 9ms/step - loss: 5.5549e-05 - mse: 1.1110e-04 - val_loss: 2.5712e-04 - val_mse: 5.1424e-04\n",
            "Epoch 28/50\n",
            " 97/105 [==========================>...] - ETA: 0s - loss: 5.2012e-05 - mse: 1.0402e-04\n",
            "Epoch 28: val_loss did not improve from 0.00026\n",
            "105/105 [==============================] - 1s 8ms/step - loss: 6.2241e-05 - mse: 1.2448e-04 - val_loss: 2.6730e-04 - val_mse: 5.3460e-04\n",
            "Epoch 29/50\n",
            " 99/105 [===========================>..] - ETA: 0s - loss: 5.9138e-05 - mse: 1.1828e-04\n",
            "Epoch 29: val_loss did not improve from 0.00026\n",
            "105/105 [==============================] - 1s 9ms/step - loss: 6.4555e-05 - mse: 1.2911e-04 - val_loss: 3.2164e-04 - val_mse: 6.4327e-04\n",
            "Epoch 30/50\n",
            "103/105 [============================>.] - ETA: 0s - loss: 5.1539e-05 - mse: 1.0308e-04\n",
            "Epoch 30: val_loss did not improve from 0.00026\n",
            "105/105 [==============================] - 1s 8ms/step - loss: 5.4001e-05 - mse: 1.0800e-04 - val_loss: 3.0879e-04 - val_mse: 6.1759e-04\n",
            "Epoch 31/50\n",
            "104/105 [============================>.] - ETA: 0s - loss: 5.4947e-05 - mse: 1.0989e-04\n",
            "Epoch 31: val_loss did not improve from 0.00026\n",
            "105/105 [==============================] - 1s 8ms/step - loss: 5.4857e-05 - mse: 1.0971e-04 - val_loss: 2.6832e-04 - val_mse: 5.3664e-04\n",
            "Epoch 32/50\n",
            "102/105 [============================>.] - ETA: 0s - loss: 5.2249e-05 - mse: 1.0450e-04\n",
            "Epoch 32: val_loss did not improve from 0.00026\n",
            "105/105 [==============================] - 1s 9ms/step - loss: 5.5607e-05 - mse: 1.1121e-04 - val_loss: 3.1228e-04 - val_mse: 6.2455e-04\n",
            "Epoch 33/50\n",
            " 99/105 [===========================>..] - ETA: 0s - loss: 4.5071e-05 - mse: 9.0142e-05\n",
            "Epoch 33: val_loss improved from 0.00026 to 0.00024, saving model to tmp/ckeckpointer.ckpt\n",
            "105/105 [==============================] - 1s 9ms/step - loss: 5.2669e-05 - mse: 1.0534e-04 - val_loss: 2.4020e-04 - val_mse: 4.8040e-04\n",
            "Epoch 34/50\n",
            " 96/105 [==========================>...] - ETA: 0s - loss: 5.4770e-05 - mse: 1.0954e-04\n",
            "Epoch 34: val_loss improved from 0.00024 to 0.00021, saving model to tmp/ckeckpointer.ckpt\n",
            "105/105 [==============================] - 1s 9ms/step - loss: 5.8111e-05 - mse: 1.1622e-04 - val_loss: 2.1221e-04 - val_mse: 4.2442e-04\n",
            "Epoch 35/50\n",
            " 97/105 [==========================>...] - ETA: 0s - loss: 4.1855e-05 - mse: 8.3711e-05\n",
            "Epoch 35: val_loss did not improve from 0.00021\n",
            "105/105 [==============================] - 1s 9ms/step - loss: 5.0949e-05 - mse: 1.0190e-04 - val_loss: 2.2140e-04 - val_mse: 4.4281e-04\n",
            "Epoch 36/50\n",
            " 97/105 [==========================>...] - ETA: 0s - loss: 6.6292e-05 - mse: 1.3258e-04\n",
            "Epoch 36: val_loss did not improve from 0.00021\n",
            "105/105 [==============================] - 1s 9ms/step - loss: 6.9479e-05 - mse: 1.3896e-04 - val_loss: 2.7125e-04 - val_mse: 5.4251e-04\n",
            "Epoch 37/50\n",
            "105/105 [==============================] - ETA: 0s - loss: 5.9019e-05 - mse: 1.1804e-04\n",
            "Epoch 37: val_loss did not improve from 0.00021\n",
            "105/105 [==============================] - 1s 9ms/step - loss: 5.9019e-05 - mse: 1.1804e-04 - val_loss: 5.6253e-04 - val_mse: 0.0011\n",
            "Epoch 38/50\n",
            "103/105 [============================>.] - ETA: 0s - loss: 5.2328e-05 - mse: 1.0466e-04\n",
            "Epoch 38: val_loss did not improve from 0.00021\n",
            "105/105 [==============================] - 1s 8ms/step - loss: 5.2595e-05 - mse: 1.0519e-04 - val_loss: 2.5496e-04 - val_mse: 5.0991e-04\n",
            "Epoch 39/50\n",
            " 97/105 [==========================>...] - ETA: 0s - loss: 5.0715e-05 - mse: 1.0143e-04\n",
            "Epoch 39: val_loss did not improve from 0.00021\n",
            "105/105 [==============================] - 1s 9ms/step - loss: 5.6788e-05 - mse: 1.1358e-04 - val_loss: 2.8211e-04 - val_mse: 5.6421e-04\n",
            "Epoch 40/50\n",
            "105/105 [==============================] - ETA: 0s - loss: 5.6830e-05 - mse: 1.1366e-04\n",
            "Epoch 40: val_loss did not improve from 0.00021\n",
            "105/105 [==============================] - 1s 9ms/step - loss: 5.6830e-05 - mse: 1.1366e-04 - val_loss: 2.1786e-04 - val_mse: 4.3572e-04\n",
            "Epoch 41/50\n",
            "102/105 [============================>.] - ETA: 0s - loss: 5.3145e-05 - mse: 1.0629e-04\n",
            "Epoch 41: val_loss did not improve from 0.00021\n",
            "105/105 [==============================] - 1s 9ms/step - loss: 5.5687e-05 - mse: 1.1137e-04 - val_loss: 2.3960e-04 - val_mse: 4.7920e-04\n",
            "Epoch 42/50\n",
            "101/105 [===========================>..] - ETA: 0s - loss: 5.6307e-05 - mse: 1.1261e-04\n",
            "Epoch 42: val_loss did not improve from 0.00021\n",
            "105/105 [==============================] - 1s 8ms/step - loss: 5.7528e-05 - mse: 1.1506e-04 - val_loss: 3.6619e-04 - val_mse: 7.3237e-04\n",
            "Epoch 43/50\n",
            "102/105 [============================>.] - ETA: 0s - loss: 4.5092e-05 - mse: 9.0184e-05\n",
            "Epoch 43: val_loss did not improve from 0.00021\n",
            "105/105 [==============================] - 1s 8ms/step - loss: 4.9179e-05 - mse: 9.8358e-05 - val_loss: 2.2631e-04 - val_mse: 4.5262e-04\n",
            "Epoch 44/50\n",
            " 99/105 [===========================>..] - ETA: 0s - loss: 4.4698e-05 - mse: 8.9396e-05\n",
            "Epoch 44: val_loss did not improve from 0.00021\n",
            "105/105 [==============================] - 1s 8ms/step - loss: 4.7653e-05 - mse: 9.5306e-05 - val_loss: 2.1689e-04 - val_mse: 4.3378e-04\n"
          ]
        }
      ],
      "source": [
        "history = model.fit(train_data, \n",
        "                    validation_data=(test_data), \n",
        "                    epochs=50, \n",
        "                    callbacks=[checkpoint, earlystopping])"
      ]
    },
    {
      "cell_type": "markdown",
      "metadata": {
        "id": "n-jZxCtr8bU1"
      },
      "source": [
        "저장한 ModelCheckpoint 를 로드합니다."
      ]
    },
    {
      "cell_type": "code",
      "execution_count": 66,
      "metadata": {
        "id": "RoPIDRSo32f-",
        "outputId": "16c99014-1196-4219-f8d2-15a59668fa7a",
        "colab": {
          "base_uri": "https://localhost:8080/"
        }
      },
      "outputs": [
        {
          "output_type": "execute_result",
          "data": {
            "text/plain": [
              "<tensorflow.python.training.tracking.util.CheckpointLoadStatus at 0x7f54f0204810>"
            ]
          },
          "metadata": {},
          "execution_count": 66
        }
      ],
      "source": [
        "model.load_weights(filename)"
      ]
    },
    {
      "cell_type": "markdown",
      "metadata": {
        "id": "F0CAzp7t8bU1"
      },
      "source": [
        "`test_data`를 활용하여 예측을 진행합니다."
      ]
    },
    {
      "cell_type": "code",
      "execution_count": 67,
      "metadata": {
        "id": "WxAxSLNL0l8Z"
      },
      "outputs": [],
      "source": [
        "pred = model.predict(test_data)"
      ]
    },
    {
      "cell_type": "code",
      "execution_count": 68,
      "metadata": {
        "colab": {
          "base_uri": "https://localhost:8080/"
        },
        "id": "yMPXjSQ10l8d",
        "outputId": "6046634e-0d7b-4966-d6c5-134214124b64"
      },
      "outputs": [
        {
          "output_type": "execute_result",
          "data": {
            "text/plain": [
              "(820, 1)"
            ]
          },
          "metadata": {},
          "execution_count": 68
        }
      ],
      "source": [
        "pred.shape"
      ]
    },
    {
      "cell_type": "markdown",
      "metadata": {
        "id": "jaWpXnQf6zMt"
      },
      "source": [
        "## 예측 데이터 시각화"
      ]
    },
    {
      "cell_type": "markdown",
      "metadata": {
        "id": "9lDtsJgd8bU2"
      },
      "source": [
        "아래 시각화 코드중 y_test 데이터에 **[20:]**으로 슬라이싱을 한 이유는\n",
        "\n",
        "예측 데이터에서 20일치의 데이터로 21일치를 예측해야하기 때문에 test_data로 예측 시 *앞의 20일은 예측하지 않습니다.*\n",
        "\n",
        "따라서, 20번 째 index와 비교하면 더욱 정확합니다."
      ]
    },
    {
      "cell_type": "code",
      "execution_count": 69,
      "metadata": {
        "colab": {
          "base_uri": "https://localhost:8080/",
          "height": 592
        },
        "id": "2F4QQ1O_0l8m",
        "outputId": "a7cb7c03-65d7-4bec-e4ff-418fd6506379"
      },
      "outputs": [
        {
          "output_type": "display_data",
          "data": {
            "text/plain": [
              "<Figure size 1440x720 with 1 Axes>"
            ],
            "image/png": "[encoded data removed]"
          },
          "metadata": {
            "needs_background": "light"
          }
        }
      ],
      "source": [
        "plt.figure(figsize=(20, 10))\n",
        "plt.plot(np.asarray(y_test)[20:], label='actual')\n",
        "plt.plot(pred, label='prediction')\n",
        "plt.legend()\n",
        "plt.show()"
      ]
    },
    {
      "cell_type": "code",
      "source": [
        ""
      ],
      "metadata": {
        "id": "EzxteWfner9v"
      },
      "execution_count": null,
      "outputs": []
    }
  ],
  "metadata": {
    "accelerator": "GPU",
    "colab": {
      "collapsed_sections": [],
      "name": "6주차 실습과제_LSTM을 활용한 삼성전자 주가예측.ipynb",
      "provenance": [],
      "include_colab_link": true
    },
    "kernelspec": {
      "display_name": "Python 3",
      "language": "python",
      "name": "python3"
    },
    "language_info": {
      "codemirror_mode": {
        "name": "ipython",
        "version": 3
      },
      "file_extension": ".py",
      "mimetype": "text/x-python",
      "name": "python",
      "nbconvert_exporter": "python",
      "pygments_lexer": "ipython3",
      "version": "3.6.10"
    }
  },
  "nbformat": 4,
  "nbformat_minor": 0
}
